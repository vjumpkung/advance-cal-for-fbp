{
 "cells": [
  {
   "cell_type": "markdown",
   "metadata": {},
   "source": [
    "# Advance Calculation flow-based programming (AdvCal FBP) Colab Version\n",
    "\n",
    "## Limitations\n",
    "\n",
    "- File must be upload into program only.\n",
    "\n",
    "## Start\n",
    "\n",
    "- Run cell below to use it\n",
    "\n",
    "## Troubleshooting\n",
    "\n",
    "- If cloudflare tunnel url not working because DNS please open in incognito tab."
   ]
  },
  {
   "cell_type": "code",
   "execution_count": null,
   "metadata": {
    "vscode": {
     "languageId": "plaintext"
    }
   },
   "outputs": [],
   "source": [
    "!git clone https://github.com/vjumpkung/advance-cal-for-fbp.git\n",
    "%cd ./advance-cal-for-fbp\n",
    "!wget -q https://github.com/cloudflare/cloudflared/releases/latest/download/cloudflared-linux-amd64.deb &> /dev/null\n",
    "!dpkg -i cloudflared-linux-amd64.deb &> /dev/null\n",
    "\n",
    "import subprocess\n",
    "import threading\n",
    "import time\n",
    "import socket\n",
    "import urllib.request\n",
    "\n",
    "def iframe_thread(port):\n",
    "    while True:\n",
    "        time.sleep(0.5)\n",
    "        sock = socket.socket(socket.AF_INET, socket.SOCK_STREAM)\n",
    "        result = sock.connect_ex(('127.0.0.1', port))\n",
    "        if result == 0:\n",
    "            break\n",
    "        sock.close()\n",
    "    time.sleep(5)\n",
    "\n",
    "    p = subprocess.Popen([\"cloudflared\", \"tunnel\", \"--url\", \"http://127.0.0.1:{}\".format(port)], stdout=subprocess.PIPE, stderr=subprocess.PIPE)\n",
    "    for line in p.stderr:\n",
    "        l = line.decode()\n",
    "        if \"trycloudflare.com \" in l:\n",
    "            print(\"This is the URL to access AdvCal FBP:\", l[l.find(\"http\"):], end='')\n",
    "            #print(l, end='')\n",
    "\n",
    "\n",
    "threading.Thread(target=iframe_thread, daemon=True, args=(4047,)).start()\n",
    "\n",
    "!python main.py"
   ]
  }
 ],
 "metadata": {
  "language_info": {
   "name": "python"
  }
 },
 "nbformat": 4,
 "nbformat_minor": 2
}
